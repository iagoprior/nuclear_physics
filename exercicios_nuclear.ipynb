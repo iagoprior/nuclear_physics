{
  "nbformat": 4,
  "nbformat_minor": 0,
  "metadata": {
    "colab": {
      "name": "exercicios_nuclear.ipynb",
      "provenance": [],
      "collapsed_sections": [],
      "authorship_tag": "ABX9TyOr+T7bNHaidmgj7R2gDqRD",
      "include_colab_link": true
    },
    "kernelspec": {
      "name": "python3",
      "display_name": "Python 3"
    }
  },
  "cells": [
    {
      "cell_type": "markdown",
      "metadata": {
        "id": "view-in-github",
        "colab_type": "text"
      },
      "source": [
        "<a href=\"https://colab.research.google.com/github/iagoprior/nuclear_physics/blob/master/exercicios_nuclear.ipynb\" target=\"_parent\"><img src=\"https://colab.research.google.com/assets/colab-badge.svg\" alt=\"Open In Colab\"/></a>"
      ]
    },
    {
      "cell_type": "code",
      "metadata": {
        "id": "FU6vN0gOiBxf"
      },
      "source": [
        ""
      ],
      "execution_count": null,
      "outputs": []
    },
    {
      "cell_type": "markdown",
      "metadata": {
        "id": "pzLAJHKf30dq"
      },
      "source": [
        "# **Exercício 1.1**\n",
        "\n",
        "Calcular a seção de choque para o espalhamento de uma partícula alpha de 10 MeV por um núcleo de ouro(Z=79, A=197) através de um ângulo maior que:\n",
        "\n"
      ]
    },
    {
      "cell_type": "code",
      "metadata": {
        "id": "wfGBl_RO98Ax"
      },
      "source": [
        "# import sympy \n",
        "from sympy import *\n",
        "  \n",
        "# Use sympy.cot() method \n",
        "\n",
        "#converte graus para radianos\n",
        "def secao_de_choque(degree):\n",
        "  \n",
        "  theta = (degree * 3.14)/180\n",
        "  cotangent = cot(theta / 2)\n",
        "  angle = pow(cotangent,2) \n",
        "  # hC\n",
        "  hc = 197.3\n",
        "  # T em MeV\n",
        "  T = 10\n",
        "  a = pow(hc/T,2)\n",
        "  # constante \n",
        "  c = 1/137.04\n",
        "  const = pow(c,2)\n",
        "  # \n",
        "  Z = 79\n",
        "  z = 2\n",
        "  Z_2 = pow(Z,2)\n",
        "  z_2 = pow(z,2)\n",
        "  pi = 3.14\n",
        "  c = (Z_2*z_2*pi)/4\n",
        "  \n",
        "  l = c*const*a*angle\n",
        "  return l"
      ],
      "execution_count": 251,
      "outputs": []
    },
    {
      "cell_type": "markdown",
      "metadata": {
        "id": "lvi1_DWg3xOK"
      },
      "source": [
        "**a)** 10°"
      ]
    },
    {
      "cell_type": "code",
      "metadata": {
        "id": "GMdKkvZasDsx",
        "outputId": "992bf327-ce6a-4bb7-d9bc-f166a4d127eb",
        "colab": {
          "base_uri": "https://localhost:8080/",
          "height": 34
        }
      },
      "source": [
        "degree = 10\n",
        "secao_de_choque(degree)"
      ],
      "execution_count": 252,
      "outputs": [
        {
          "output_type": "execute_result",
          "data": {
            "text/plain": [
              "53122.9799385413"
            ]
          },
          "metadata": {
            "tags": []
          },
          "execution_count": 252
        }
      ]
    },
    {
      "cell_type": "markdown",
      "metadata": {
        "id": "FGm9K9V-8udj"
      },
      "source": [
        "**b)**20°"
      ]
    },
    {
      "cell_type": "code",
      "metadata": {
        "id": "NZD3S1gY80Bv",
        "outputId": "c74ed6cb-42d7-42b9-c110-b25ba914ed61",
        "colab": {
          "base_uri": "https://localhost:8080/",
          "height": 34
        }
      },
      "source": [
        "degree = 20\n",
        "secao_de_choque(degree)"
      ],
      "execution_count": 253,
      "outputs": [
        {
          "output_type": "execute_result",
          "data": {
            "text/plain": [
              "13078.4199078054"
            ]
          },
          "metadata": {
            "tags": []
          },
          "execution_count": 253
        }
      ]
    },
    {
      "cell_type": "code",
      "metadata": {
        "id": "97BiUWT688oQ",
        "outputId": "2354b626-81a8-4210-8025-e2318eae9f96",
        "colab": {
          "base_uri": "https://localhost:8080/",
          "height": 34
        }
      },
      "source": [
        "degree = 30.0\n",
        "secao_de_choque(degree)\n",
        "#Y = []\n",
        "Y.append(secao_de_choque(degree))\n",
        "Y"
      ],
      "execution_count": 254,
      "outputs": [
        {
          "output_type": "execute_result",
          "data": {
            "text/plain": [
              "5663.69193545440"
            ]
          },
          "metadata": {
            "tags": []
          },
          "execution_count": 254
        }
      ]
    },
    {
      "cell_type": "code",
      "metadata": {
        "id": "9BmnGMpfVRdd",
        "outputId": "a26fbd55-a9ce-4615-cdd2-de49093187d6",
        "colab": {
          "base_uri": "https://localhost:8080/",
          "height": 225
        }
      },
      "source": [
        "dados = {'degree': [10.0, 20.0, 30.0 ,40.0, 50.0, 60.0, 70.0, 70.0, 80.0, 90.0, 100.0]}\n",
        "dados\n",
        "dados['cross-section'] = Y\n",
        "dados"
      ],
      "execution_count": 255,
      "outputs": [
        {
          "output_type": "execute_result",
          "data": {
            "text/plain": [
              "{'cross-section': [53122.9799385413,\n",
              "  13078.4199078054,\n",
              "  5663.69193545440,\n",
              "  3069.65746530072,\n",
              "  1870.25112023270,\n",
              "  1220.10468186415,\n",
              "  829.587695177715,\n",
              "  829.587695177715,\n",
              "  577.750848305818,\n",
              "  406.850619839286,\n",
              "  286.517195035233],\n",
              " 'degree': [10.0, 20.0, 30.0, 40.0, 50.0, 60.0, 70.0, 70.0, 80.0, 90.0, 100.0]}"
            ]
          },
          "metadata": {
            "tags": []
          },
          "execution_count": 255
        }
      ]
    },
    {
      "cell_type": "code",
      "metadata": {
        "id": "b-2zNH36a-n-",
        "outputId": "194d0d34-5784-419c-c870-7abc6e822be1",
        "colab": {
          "base_uri": "https://localhost:8080/",
          "height": 394
        }
      },
      "source": [
        "import pandas as pd\n",
        "dataframe = pd.DataFrame(dados)\n",
        "dataframe"
      ],
      "execution_count": 256,
      "outputs": [
        {
          "output_type": "execute_result",
          "data": {
            "text/html": [
              "<div>\n",
              "<style scoped>\n",
              "    .dataframe tbody tr th:only-of-type {\n",
              "        vertical-align: middle;\n",
              "    }\n",
              "\n",
              "    .dataframe tbody tr th {\n",
              "        vertical-align: top;\n",
              "    }\n",
              "\n",
              "    .dataframe thead th {\n",
              "        text-align: right;\n",
              "    }\n",
              "</style>\n",
              "<table border=\"1\" class=\"dataframe\">\n",
              "  <thead>\n",
              "    <tr style=\"text-align: right;\">\n",
              "      <th></th>\n",
              "      <th>degree</th>\n",
              "      <th>cross-section</th>\n",
              "    </tr>\n",
              "  </thead>\n",
              "  <tbody>\n",
              "    <tr>\n",
              "      <th>0</th>\n",
              "      <td>10.0</td>\n",
              "      <td>53122.9799385413</td>\n",
              "    </tr>\n",
              "    <tr>\n",
              "      <th>1</th>\n",
              "      <td>20.0</td>\n",
              "      <td>13078.4199078054</td>\n",
              "    </tr>\n",
              "    <tr>\n",
              "      <th>2</th>\n",
              "      <td>30.0</td>\n",
              "      <td>5663.69193545440</td>\n",
              "    </tr>\n",
              "    <tr>\n",
              "      <th>3</th>\n",
              "      <td>40.0</td>\n",
              "      <td>3069.65746530072</td>\n",
              "    </tr>\n",
              "    <tr>\n",
              "      <th>4</th>\n",
              "      <td>50.0</td>\n",
              "      <td>1870.25112023270</td>\n",
              "    </tr>\n",
              "    <tr>\n",
              "      <th>5</th>\n",
              "      <td>60.0</td>\n",
              "      <td>1220.10468186415</td>\n",
              "    </tr>\n",
              "    <tr>\n",
              "      <th>6</th>\n",
              "      <td>70.0</td>\n",
              "      <td>829.587695177715</td>\n",
              "    </tr>\n",
              "    <tr>\n",
              "      <th>7</th>\n",
              "      <td>70.0</td>\n",
              "      <td>829.587695177715</td>\n",
              "    </tr>\n",
              "    <tr>\n",
              "      <th>8</th>\n",
              "      <td>80.0</td>\n",
              "      <td>577.750848305818</td>\n",
              "    </tr>\n",
              "    <tr>\n",
              "      <th>9</th>\n",
              "      <td>90.0</td>\n",
              "      <td>406.850619839286</td>\n",
              "    </tr>\n",
              "    <tr>\n",
              "      <th>10</th>\n",
              "      <td>100.0</td>\n",
              "      <td>286.517195035233</td>\n",
              "    </tr>\n",
              "  </tbody>\n",
              "</table>\n",
              "</div>"
            ],
            "text/plain": [
              "    degree     cross-section\n",
              "0     10.0  53122.9799385413\n",
              "1     20.0  13078.4199078054\n",
              "2     30.0  5663.69193545440\n",
              "3     40.0  3069.65746530072\n",
              "4     50.0  1870.25112023270\n",
              "5     60.0  1220.10468186415\n",
              "6     70.0  829.587695177715\n",
              "7     70.0  829.587695177715\n",
              "8     80.0  577.750848305818\n",
              "9     90.0  406.850619839286\n",
              "10   100.0  286.517195035233"
            ]
          },
          "metadata": {
            "tags": []
          },
          "execution_count": 256
        }
      ]
    },
    {
      "cell_type": "code",
      "metadata": {
        "id": "qrZy1fdXSTTT",
        "outputId": "fa0dcd5b-d622-4e06-b5c9-9112e52414fa",
        "colab": {
          "base_uri": "https://localhost:8080/",
          "height": 296
        }
      },
      "source": [
        "dataframe.plot(x=\"degree\", y=\"cross-section\", kind=\"scatter\")"
      ],
      "execution_count": 257,
      "outputs": [
        {
          "output_type": "execute_result",
          "data": {
            "text/plain": [
              "<matplotlib.axes._subplots.AxesSubplot at 0x7fd353c2beb8>"
            ]
          },
          "metadata": {
            "tags": []
          },
          "execution_count": 257
        },
        {
          "output_type": "display_data",
          "data": {
            "image/png": "[encoded data removed]",
            "text/plain": [
              "<Figure size 432x288 with 1 Axes>"
            ]
          },
          "metadata": {
            "tags": [],
            "needs_background": "light"
          }
        }
      ]
    },
    {
      "cell_type": "markdown",
      "metadata": {
        "id": "zfa_f8E9dbxi"
      },
      "source": [
        "# **Exercício 1.2**"
      ]
    },
    {
      "cell_type": "code",
      "metadata": {
        "id": "c30TR-vyd1Pl"
      },
      "source": [
        "# import sympy \n",
        "from sympy import *\n",
        "  \n",
        "# Use sympy.cot() method \n",
        "\n",
        "#converte graus para radianos\n",
        "def secao_de_choque_diferencial(degree):\n",
        "  \n",
        "  theta = (degree * 3.14)/180\n",
        "  cossecant = csc(theta / 2)\n",
        "  angle = pow(cossecant,4) \n",
        "  # hC\n",
        "  hc = 197.3\n",
        "  # T em MeV\n",
        "  T = 10\n",
        "  a = pow(hc/T,2)\n",
        "  # constante \n",
        "  c = 1/137.04\n",
        "  const = pow(c,2)\n",
        "  # \n",
        "  Z = 79\n",
        "  z = 2\n",
        "  Z_2 = pow(Z,2)\n",
        "  z_2 = pow(z,2)\n",
        "  pi = 3.14\n",
        "  c = (Z_2*z_2)/16\n",
        "  \n",
        "  l = c*const*a*angle\n",
        "  return l"
      ],
      "execution_count": 258,
      "outputs": []
    },
    {
      "cell_type": "code",
      "metadata": {
        "id": "ydYn79mlfYoZ",
        "outputId": "ba6cbb3e-f86f-4692-fedd-8d7180f931e7",
        "colab": {
          "base_uri": "https://localhost:8080/",
          "height": 260
        }
      },
      "source": [
        "degree = 18.0\n",
        "secao_de_choque_diferencial(degree)\n",
        "#Y = []\n",
        "Y.append(secao_de_choque_diferencial(degree))\n",
        "Y"
      ],
      "execution_count": 295,
      "outputs": [
        {
          "output_type": "execute_result",
          "data": {
            "text/plain": [
              "[561627.404381972,\n",
              " 35640.5733606667,\n",
              " 7221.53350444099,\n",
              " 2368.05490651298,\n",
              " 1015.74554351905,\n",
              " 518.409048678591,\n",
              " 299.334666352949,\n",
              " 189.765238591665,\n",
              " 129.570343260563,\n",
              " 94.0552326593855,\n",
              " 271452.019524345,\n",
              " 146910.315081834,\n",
              " 86378.8892748659,\n",
              " 54112.4928625243]"
            ]
          },
          "metadata": {
            "tags": []
          },
          "execution_count": 295
        }
      ]
    },
    {
      "cell_type": "code",
      "metadata": {
        "id": "WajTI26Ufidk",
        "outputId": "eb12ebb6-71f9-4e8d-e1af-35240b55524f",
        "colab": {
          "base_uri": "https://localhost:8080/",
          "height": 503
        }
      },
      "source": [
        "\n",
        "dados = {'degree': [10.0, 20.0, 30.0 ,40.0, 50.0, 60.0, 70.0, 80.0, 90.0, 100.0, 12.0, 14.0, 16.0, 18.0]}\n",
        "dados\n",
        "dados['differential-cross-section'] = Y\n",
        "dados"
      ],
      "execution_count": 296,
      "outputs": [
        {
          "output_type": "execute_result",
          "data": {
            "text/plain": [
              "{'degree': [10.0,\n",
              "  20.0,\n",
              "  30.0,\n",
              "  40.0,\n",
              "  50.0,\n",
              "  60.0,\n",
              "  70.0,\n",
              "  80.0,\n",
              "  90.0,\n",
              "  100.0,\n",
              "  12.0,\n",
              "  14.0,\n",
              "  16.0,\n",
              "  18.0],\n",
              " 'differential-cross-section': [561627.404381972,\n",
              "  35640.5733606667,\n",
              "  7221.53350444099,\n",
              "  2368.05490651298,\n",
              "  1015.74554351905,\n",
              "  518.409048678591,\n",
              "  299.334666352949,\n",
              "  189.765238591665,\n",
              "  129.570343260563,\n",
              "  94.0552326593855,\n",
              "  271452.019524345,\n",
              "  146910.315081834,\n",
              "  86378.8892748659,\n",
              "  54112.4928625243]}"
            ]
          },
          "metadata": {
            "tags": []
          },
          "execution_count": 296
        }
      ]
    },
    {
      "cell_type": "code",
      "metadata": {
        "id": "QuT1ci3Lho0U",
        "outputId": "864bd3fa-8661-4646-8723-94c68a72def3",
        "colab": {
          "base_uri": "https://localhost:8080/",
          "height": 489
        }
      },
      "source": [
        "import pandas as pd\n",
        "dataframe = pd.DataFrame(dados)\n",
        "dataframe"
      ],
      "execution_count": 297,
      "outputs": [
        {
          "output_type": "execute_result",
          "data": {
            "text/html": [
              "<div>\n",
              "<style scoped>\n",
              "    .dataframe tbody tr th:only-of-type {\n",
              "        vertical-align: middle;\n",
              "    }\n",
              "\n",
              "    .dataframe tbody tr th {\n",
              "        vertical-align: top;\n",
              "    }\n",
              "\n",
              "    .dataframe thead th {\n",
              "        text-align: right;\n",
              "    }\n",
              "</style>\n",
              "<table border=\"1\" class=\"dataframe\">\n",
              "  <thead>\n",
              "    <tr style=\"text-align: right;\">\n",
              "      <th></th>\n",
              "      <th>degree</th>\n",
              "      <th>differential-cross-section</th>\n",
              "    </tr>\n",
              "  </thead>\n",
              "  <tbody>\n",
              "    <tr>\n",
              "      <th>0</th>\n",
              "      <td>10.0</td>\n",
              "      <td>561627.404381972</td>\n",
              "    </tr>\n",
              "    <tr>\n",
              "      <th>1</th>\n",
              "      <td>20.0</td>\n",
              "      <td>35640.5733606667</td>\n",
              "    </tr>\n",
              "    <tr>\n",
              "      <th>2</th>\n",
              "      <td>30.0</td>\n",
              "      <td>7221.53350444099</td>\n",
              "    </tr>\n",
              "    <tr>\n",
              "      <th>3</th>\n",
              "      <td>40.0</td>\n",
              "      <td>2368.05490651298</td>\n",
              "    </tr>\n",
              "    <tr>\n",
              "      <th>4</th>\n",
              "      <td>50.0</td>\n",
              "      <td>1015.74554351905</td>\n",
              "    </tr>\n",
              "    <tr>\n",
              "      <th>5</th>\n",
              "      <td>60.0</td>\n",
              "      <td>518.409048678591</td>\n",
              "    </tr>\n",
              "    <tr>\n",
              "      <th>6</th>\n",
              "      <td>70.0</td>\n",
              "      <td>299.334666352949</td>\n",
              "    </tr>\n",
              "    <tr>\n",
              "      <th>7</th>\n",
              "      <td>80.0</td>\n",
              "      <td>189.765238591665</td>\n",
              "    </tr>\n",
              "    <tr>\n",
              "      <th>8</th>\n",
              "      <td>90.0</td>\n",
              "      <td>129.570343260563</td>\n",
              "    </tr>\n",
              "    <tr>\n",
              "      <th>9</th>\n",
              "      <td>100.0</td>\n",
              "      <td>94.0552326593855</td>\n",
              "    </tr>\n",
              "    <tr>\n",
              "      <th>10</th>\n",
              "      <td>12.0</td>\n",
              "      <td>271452.019524345</td>\n",
              "    </tr>\n",
              "    <tr>\n",
              "      <th>11</th>\n",
              "      <td>14.0</td>\n",
              "      <td>146910.315081834</td>\n",
              "    </tr>\n",
              "    <tr>\n",
              "      <th>12</th>\n",
              "      <td>16.0</td>\n",
              "      <td>86378.8892748659</td>\n",
              "    </tr>\n",
              "    <tr>\n",
              "      <th>13</th>\n",
              "      <td>18.0</td>\n",
              "      <td>54112.4928625243</td>\n",
              "    </tr>\n",
              "  </tbody>\n",
              "</table>\n",
              "</div>"
            ],
            "text/plain": [
              "    degree differential-cross-section\n",
              "0     10.0           561627.404381972\n",
              "1     20.0           35640.5733606667\n",
              "2     30.0           7221.53350444099\n",
              "3     40.0           2368.05490651298\n",
              "4     50.0           1015.74554351905\n",
              "5     60.0           518.409048678591\n",
              "6     70.0           299.334666352949\n",
              "7     80.0           189.765238591665\n",
              "8     90.0           129.570343260563\n",
              "9    100.0           94.0552326593855\n",
              "10    12.0           271452.019524345\n",
              "11    14.0           146910.315081834\n",
              "12    16.0           86378.8892748659\n",
              "13    18.0           54112.4928625243"
            ]
          },
          "metadata": {
            "tags": []
          },
          "execution_count": 297
        }
      ]
    },
    {
      "cell_type": "code",
      "metadata": {
        "id": "dLc4HR0LhzD4",
        "outputId": "993fff6e-46b5-4319-8956-36643702f985",
        "colab": {
          "base_uri": "https://localhost:8080/",
          "height": 296
        }
      },
      "source": [
        "dataframe.plot(x=\"degree\", y=\"differential-cross-section\", kind=\"scatter\")"
      ],
      "execution_count": 298,
      "outputs": [
        {
          "output_type": "execute_result",
          "data": {
            "text/plain": [
              "<matplotlib.axes._subplots.AxesSubplot at 0x7fd3544ac748>"
            ]
          },
          "metadata": {
            "tags": []
          },
          "execution_count": 298
        },
        {
          "output_type": "display_data",
          "data": {
            "image/png": "[encoded data removed]",
            "text/plain": [
              "<Figure size 432x288 with 1 Axes>"
            ]
          },
          "metadata": {
            "tags": [],
            "needs_background": "light"
          }
        }
      ]
    },
    {
      "cell_type": "markdown",
      "metadata": {
        "id": "Gltp8_JMiax0"
      },
      "source": [
        "# Exercício 1.3"
      ]
    }
  ]
}